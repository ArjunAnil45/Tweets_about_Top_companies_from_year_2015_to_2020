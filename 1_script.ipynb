{
 "metadata": {
  "language_info": {
   "codemirror_mode": {
    "name": "ipython",
    "version": 3
   },
   "file_extension": ".py",
   "mimetype": "text/x-python",
   "name": "python",
   "nbconvert_exporter": "python",
   "pygments_lexer": "ipython3",
   "version": "3.9.5"
  },
  "orig_nbformat": 4,
  "kernelspec": {
   "name": "python395jvsc74a57bd00366d4a7e13d41426ce9ad91b70643fd0d9a5824f9da81a2cdc4895ab49e715d",
   "display_name": "Python 3.9.5 64-bit ('env': venv)",
   "language": "python"
  }
 },
 "nbformat": 4,
 "nbformat_minor": 2,
 "cells": [
  {
   "cell_type": "code",
   "execution_count": 1,
   "metadata": {},
   "outputs": [],
   "source": [
    "import pandas as pd\n",
    "import numpy as np\n",
    "import os\n",
    "import matplotlib.pyplot as plt"
   ]
  },
  {
   "cell_type": "code",
   "execution_count": 2,
   "metadata": {},
   "outputs": [],
   "source": [
    "pwd = os.getcwd()"
   ]
  },
  {
   "cell_type": "code",
   "execution_count": 3,
   "metadata": {},
   "outputs": [],
   "source": [
    "company_data_frame = pd.read_csv(pwd+'/company.csv')\n",
    "company_tweet_data_frame = pd.read_csv(pwd+'/company_tweet.csv')\n",
    "tweets_data_frame = pd.read_csv(pwd+'/tweet.csv')"
   ]
  },
  {
   "cell_type": "code",
   "execution_count": 4,
   "metadata": {},
   "outputs": [
    {
     "output_type": "execute_result",
     "data": {
      "text/plain": [
       "0    False\n",
       "1    False\n",
       "2    False\n",
       "3    False\n",
       "4    False\n",
       "5    False\n",
       "dtype: bool"
      ]
     },
     "metadata": {},
     "execution_count": 4
    }
   ],
   "source": [
    "company_data_frame.duplicated()"
   ]
  },
  {
   "cell_type": "code",
   "execution_count": 6,
   "metadata": {},
   "outputs": [
    {
     "output_type": "execute_result",
     "data": {
      "text/plain": [
       "Empty DataFrame\n",
       "Columns: [tweet_id, ticker_symbol]\n",
       "Index: []"
      ],
      "text/html": "<div>\n<style scoped>\n    .dataframe tbody tr th:only-of-type {\n        vertical-align: middle;\n    }\n\n    .dataframe tbody tr th {\n        vertical-align: top;\n    }\n\n    .dataframe thead th {\n        text-align: right;\n    }\n</style>\n<table border=\"1\" class=\"dataframe\">\n  <thead>\n    <tr style=\"text-align: right;\">\n      <th></th>\n      <th>tweet_id</th>\n      <th>ticker_symbol</th>\n    </tr>\n  </thead>\n  <tbody>\n  </tbody>\n</table>\n</div>"
     },
     "metadata": {},
     "execution_count": 6
    }
   ],
   "source": [
    "company_tweet_data_frame.loc[company_tweet_data_frame.duplicated(),:]"
   ]
  },
  {
   "cell_type": "code",
   "execution_count": 7,
   "metadata": {},
   "outputs": [
    {
     "output_type": "execute_result",
     "data": {
      "text/plain": [
       "Empty DataFrame\n",
       "Columns: [tweet_id, writer, post_date, body, comment_num, retweet_num, like_num]\n",
       "Index: []"
      ],
      "text/html": "<div>\n<style scoped>\n    .dataframe tbody tr th:only-of-type {\n        vertical-align: middle;\n    }\n\n    .dataframe tbody tr th {\n        vertical-align: top;\n    }\n\n    .dataframe thead th {\n        text-align: right;\n    }\n</style>\n<table border=\"1\" class=\"dataframe\">\n  <thead>\n    <tr style=\"text-align: right;\">\n      <th></th>\n      <th>tweet_id</th>\n      <th>writer</th>\n      <th>post_date</th>\n      <th>body</th>\n      <th>comment_num</th>\n      <th>retweet_num</th>\n      <th>like_num</th>\n    </tr>\n  </thead>\n  <tbody>\n  </tbody>\n</table>\n</div>"
     },
     "metadata": {},
     "execution_count": 7
    }
   ],
   "source": [
    "tweets_data_frame.loc[tweets_data_frame.duplicated(),:]"
   ]
  },
  {
   "cell_type": "code",
   "execution_count": 8,
   "metadata": {},
   "outputs": [
    {
     "output_type": "execute_result",
     "data": {
      "text/plain": [
       "Index(['ticker_symbol', 'company_name'], dtype='object')"
      ]
     },
     "metadata": {},
     "execution_count": 8
    }
   ],
   "source": [
    "company_data_frame.columns"
   ]
  },
  {
   "cell_type": "code",
   "execution_count": 11,
   "metadata": {},
   "outputs": [
    {
     "output_type": "execute_result",
     "data": {
      "text/plain": [
       "Index(['tweet_id', 'ticker_symbol'], dtype='object')"
      ]
     },
     "metadata": {},
     "execution_count": 11
    }
   ],
   "source": [
    "company_tweet_data_frame.columns"
   ]
  },
  {
   "cell_type": "code",
   "execution_count": 12,
   "metadata": {},
   "outputs": [
    {
     "output_type": "execute_result",
     "data": {
      "text/plain": [
       "Index(['tweet_id', 'writer', 'post_date', 'body', 'comment_num', 'retweet_num',\n",
       "       'like_num'],\n",
       "      dtype='object')"
      ]
     },
     "metadata": {},
     "execution_count": 12
    }
   ],
   "source": [
    "tweets_data_frame.columns"
   ]
  },
  {
   "cell_type": "code",
   "execution_count": 13,
   "metadata": {},
   "outputs": [],
   "source": [
    "company_tweet_data_frame_mod = company_tweet_data_frame.copy()\n",
    "company_data_frame_mod = company_data_frame.copy()\n",
    "tweets_data_frame_mod = tweets_data_frame.copy()"
   ]
  },
  {
   "cell_type": "code",
   "execution_count": 16,
   "metadata": {},
   "outputs": [
    {
     "output_type": "execute_result",
     "data": {
      "text/plain": [
       "  ticker_symbol company_name\n",
       "0          AAPL        apple\n",
       "1          GOOG   Google Inc\n",
       "2         GOOGL   Google Inc\n",
       "3          AMZN   Amazon.com\n",
       "4          TSLA    Tesla Inc\n",
       "5          MSFT    Microsoft"
      ],
      "text/html": "<div>\n<style scoped>\n    .dataframe tbody tr th:only-of-type {\n        vertical-align: middle;\n    }\n\n    .dataframe tbody tr th {\n        vertical-align: top;\n    }\n\n    .dataframe thead th {\n        text-align: right;\n    }\n</style>\n<table border=\"1\" class=\"dataframe\">\n  <thead>\n    <tr style=\"text-align: right;\">\n      <th></th>\n      <th>ticker_symbol</th>\n      <th>company_name</th>\n    </tr>\n  </thead>\n  <tbody>\n    <tr>\n      <th>0</th>\n      <td>AAPL</td>\n      <td>apple</td>\n    </tr>\n    <tr>\n      <th>1</th>\n      <td>GOOG</td>\n      <td>Google Inc</td>\n    </tr>\n    <tr>\n      <th>2</th>\n      <td>GOOGL</td>\n      <td>Google Inc</td>\n    </tr>\n    <tr>\n      <th>3</th>\n      <td>AMZN</td>\n      <td>Amazon.com</td>\n    </tr>\n    <tr>\n      <th>4</th>\n      <td>TSLA</td>\n      <td>Tesla Inc</td>\n    </tr>\n    <tr>\n      <th>5</th>\n      <td>MSFT</td>\n      <td>Microsoft</td>\n    </tr>\n  </tbody>\n</table>\n</div>"
     },
     "metadata": {},
     "execution_count": 16
    }
   ],
   "source": [
    "company_data_frame"
   ]
  },
  {
   "cell_type": "code",
   "execution_count": 17,
   "metadata": {},
   "outputs": [
    {
     "output_type": "execute_result",
     "data": {
      "text/plain": [
       "                    tweet_id ticker_symbol\n",
       "0         550803612197457920          AAPL\n",
       "1         550803610825928706          AAPL\n",
       "2         550803225113157632          AAPL\n",
       "3         550802957370159104          AAPL\n",
       "4         550802855129382912          AAPL\n",
       "...                      ...           ...\n",
       "4336440  1212158772015034369          TSLA\n",
       "4336441  1212159099632267268          TSLA\n",
       "4336442  1212159184931717120          TSLA\n",
       "4336443  1212159838882533376          TSLA\n",
       "4336444  1212160015332728833          TSLA\n",
       "\n",
       "[4336445 rows x 2 columns]"
      ],
      "text/html": "<div>\n<style scoped>\n    .dataframe tbody tr th:only-of-type {\n        vertical-align: middle;\n    }\n\n    .dataframe tbody tr th {\n        vertical-align: top;\n    }\n\n    .dataframe thead th {\n        text-align: right;\n    }\n</style>\n<table border=\"1\" class=\"dataframe\">\n  <thead>\n    <tr style=\"text-align: right;\">\n      <th></th>\n      <th>tweet_id</th>\n      <th>ticker_symbol</th>\n    </tr>\n  </thead>\n  <tbody>\n    <tr>\n      <th>0</th>\n      <td>550803612197457920</td>\n      <td>AAPL</td>\n    </tr>\n    <tr>\n      <th>1</th>\n      <td>550803610825928706</td>\n      <td>AAPL</td>\n    </tr>\n    <tr>\n      <th>2</th>\n      <td>550803225113157632</td>\n      <td>AAPL</td>\n    </tr>\n    <tr>\n      <th>3</th>\n      <td>550802957370159104</td>\n      <td>AAPL</td>\n    </tr>\n    <tr>\n      <th>4</th>\n      <td>550802855129382912</td>\n      <td>AAPL</td>\n    </tr>\n    <tr>\n      <th>...</th>\n      <td>...</td>\n      <td>...</td>\n    </tr>\n    <tr>\n      <th>4336440</th>\n      <td>1212158772015034369</td>\n      <td>TSLA</td>\n    </tr>\n    <tr>\n      <th>4336441</th>\n      <td>1212159099632267268</td>\n      <td>TSLA</td>\n    </tr>\n    <tr>\n      <th>4336442</th>\n      <td>1212159184931717120</td>\n      <td>TSLA</td>\n    </tr>\n    <tr>\n      <th>4336443</th>\n      <td>1212159838882533376</td>\n      <td>TSLA</td>\n    </tr>\n    <tr>\n      <th>4336444</th>\n      <td>1212160015332728833</td>\n      <td>TSLA</td>\n    </tr>\n  </tbody>\n</table>\n<p>4336445 rows × 2 columns</p>\n</div>"
     },
     "metadata": {},
     "execution_count": 17
    }
   ],
   "source": [
    "company_tweet_data_frame_mod"
   ]
  },
  {
   "cell_type": "code",
   "execution_count": 18,
   "metadata": {},
   "outputs": [],
   "source": [
    "company_tweet_id = pd.merge(left=company_tweet_data_frame_mod,right=company_data_frame_mod,how=\"left\",left_on=\"ticker_symbol\",right_on=\"ticker_symbol\")"
   ]
  },
  {
   "cell_type": "code",
   "execution_count": 19,
   "metadata": {},
   "outputs": [
    {
     "output_type": "execute_result",
     "data": {
      "text/plain": [
       "                    tweet_id ticker_symbol company_name\n",
       "0         550803612197457920          AAPL        apple\n",
       "1         550803610825928706          AAPL        apple\n",
       "2         550803225113157632          AAPL        apple\n",
       "3         550802957370159104          AAPL        apple\n",
       "4         550802855129382912          AAPL        apple\n",
       "...                      ...           ...          ...\n",
       "4336440  1212158772015034369          TSLA    Tesla Inc\n",
       "4336441  1212159099632267268          TSLA    Tesla Inc\n",
       "4336442  1212159184931717120          TSLA    Tesla Inc\n",
       "4336443  1212159838882533376          TSLA    Tesla Inc\n",
       "4336444  1212160015332728833          TSLA    Tesla Inc\n",
       "\n",
       "[4336445 rows x 3 columns]"
      ],
      "text/html": "<div>\n<style scoped>\n    .dataframe tbody tr th:only-of-type {\n        vertical-align: middle;\n    }\n\n    .dataframe tbody tr th {\n        vertical-align: top;\n    }\n\n    .dataframe thead th {\n        text-align: right;\n    }\n</style>\n<table border=\"1\" class=\"dataframe\">\n  <thead>\n    <tr style=\"text-align: right;\">\n      <th></th>\n      <th>tweet_id</th>\n      <th>ticker_symbol</th>\n      <th>company_name</th>\n    </tr>\n  </thead>\n  <tbody>\n    <tr>\n      <th>0</th>\n      <td>550803612197457920</td>\n      <td>AAPL</td>\n      <td>apple</td>\n    </tr>\n    <tr>\n      <th>1</th>\n      <td>550803610825928706</td>\n      <td>AAPL</td>\n      <td>apple</td>\n    </tr>\n    <tr>\n      <th>2</th>\n      <td>550803225113157632</td>\n      <td>AAPL</td>\n      <td>apple</td>\n    </tr>\n    <tr>\n      <th>3</th>\n      <td>550802957370159104</td>\n      <td>AAPL</td>\n      <td>apple</td>\n    </tr>\n    <tr>\n      <th>4</th>\n      <td>550802855129382912</td>\n      <td>AAPL</td>\n      <td>apple</td>\n    </tr>\n    <tr>\n      <th>...</th>\n      <td>...</td>\n      <td>...</td>\n      <td>...</td>\n    </tr>\n    <tr>\n      <th>4336440</th>\n      <td>1212158772015034369</td>\n      <td>TSLA</td>\n      <td>Tesla Inc</td>\n    </tr>\n    <tr>\n      <th>4336441</th>\n      <td>1212159099632267268</td>\n      <td>TSLA</td>\n      <td>Tesla Inc</td>\n    </tr>\n    <tr>\n      <th>4336442</th>\n      <td>1212159184931717120</td>\n      <td>TSLA</td>\n      <td>Tesla Inc</td>\n    </tr>\n    <tr>\n      <th>4336443</th>\n      <td>1212159838882533376</td>\n      <td>TSLA</td>\n      <td>Tesla Inc</td>\n    </tr>\n    <tr>\n      <th>4336444</th>\n      <td>1212160015332728833</td>\n      <td>TSLA</td>\n      <td>Tesla Inc</td>\n    </tr>\n  </tbody>\n</table>\n<p>4336445 rows × 3 columns</p>\n</div>"
     },
     "metadata": {},
     "execution_count": 19
    }
   ],
   "source": [
    "company_tweet_id"
   ]
  },
  {
   "cell_type": "code",
   "execution_count": 20,
   "metadata": {},
   "outputs": [
    {
     "output_type": "stream",
     "name": "stdout",
     "text": [
      "Orginal 6\nOrginal 4336445\nmerged 4336445\n"
     ]
    }
   ],
   "source": [
    "#Checking if the merged data frame size match with the orginal data frame size\n",
    "print(\"Orginal\",len(company_data_frame))\n",
    "print(\"Orginal\",len(company_tweet_data_frame))\n",
    "print(\"merged\",len(company_tweet_id))"
   ]
  },
  {
   "cell_type": "code",
   "execution_count": 21,
   "metadata": {},
   "outputs": [
    {
     "output_type": "execute_result",
     "data": {
      "text/plain": [
       "                    tweet_id           writer   post_date  \\\n",
       "0         550441509175443456  VisualStockRSRC  1420070457   \n",
       "1         550441672312512512      KeralaGuy77  1420070496   \n",
       "2         550441732014223360      DozenStocks  1420070510   \n",
       "3         550442977802207232     ShowDreamCar  1420070807   \n",
       "4         550443807834402816     i_Know_First  1420071005   \n",
       "...                      ...              ...         ...   \n",
       "3717959  1212159765914079234        TEEELAZER  1577836383   \n",
       "3717960  1212159838882533376    ShortingIsFun  1577836401   \n",
       "3717961  1212160015332728833      Commuternyc  1577836443   \n",
       "3717962  1212160410692046849      MoriaCrypto  1577836537   \n",
       "3717963  1212160477159206912         treabase  1577836553   \n",
       "\n",
       "                                                      body  comment_num  \\\n",
       "0        lx21 made $10,008  on $AAPL -Check it out! htt...            0   \n",
       "1        Insanity of today weirdo massive selling. $aap...            0   \n",
       "2        S&P100 #Stocks Performance $HD $LOW $SBUX $TGT...            0   \n",
       "3        $GM $TSLA: Volkswagen Pushes 2014 Record Recal...            0   \n",
       "4        Swing Trading: Up To 8.91% Return In 14 Days h...            0   \n",
       "...                                                    ...          ...   \n",
       "3717959  That $SPY $SPX puuump in the last hour was the...            1   \n",
       "3717960  In 2020 I may start Tweeting out positive news...            0   \n",
       "3717961  Patiently Waiting for the no twitter sitter tw...            0   \n",
       "3717962  I don't discriminate. I own both $aapl and $ms...            1   \n",
       "3717963  $AAPL #patent 10,522,475 Vertical interconnect...            0   \n",
       "\n",
       "         retweet_num  like_num  \n",
       "0                  0         1  \n",
       "1                  0         0  \n",
       "2                  0         0  \n",
       "3                  0         1  \n",
       "4                  0         1  \n",
       "...              ...       ...  \n",
       "3717959            0         6  \n",
       "3717960            0         1  \n",
       "3717961            0         5  \n",
       "3717962            0         1  \n",
       "3717963            0         0  \n",
       "\n",
       "[3717964 rows x 7 columns]"
      ],
      "text/html": "<div>\n<style scoped>\n    .dataframe tbody tr th:only-of-type {\n        vertical-align: middle;\n    }\n\n    .dataframe tbody tr th {\n        vertical-align: top;\n    }\n\n    .dataframe thead th {\n        text-align: right;\n    }\n</style>\n<table border=\"1\" class=\"dataframe\">\n  <thead>\n    <tr style=\"text-align: right;\">\n      <th></th>\n      <th>tweet_id</th>\n      <th>writer</th>\n      <th>post_date</th>\n      <th>body</th>\n      <th>comment_num</th>\n      <th>retweet_num</th>\n      <th>like_num</th>\n    </tr>\n  </thead>\n  <tbody>\n    <tr>\n      <th>0</th>\n      <td>550441509175443456</td>\n      <td>VisualStockRSRC</td>\n      <td>1420070457</td>\n      <td>lx21 made $10,008  on $AAPL -Check it out! htt...</td>\n      <td>0</td>\n      <td>0</td>\n      <td>1</td>\n    </tr>\n    <tr>\n      <th>1</th>\n      <td>550441672312512512</td>\n      <td>KeralaGuy77</td>\n      <td>1420070496</td>\n      <td>Insanity of today weirdo massive selling. $aap...</td>\n      <td>0</td>\n      <td>0</td>\n      <td>0</td>\n    </tr>\n    <tr>\n      <th>2</th>\n      <td>550441732014223360</td>\n      <td>DozenStocks</td>\n      <td>1420070510</td>\n      <td>S&amp;P100 #Stocks Performance $HD $LOW $SBUX $TGT...</td>\n      <td>0</td>\n      <td>0</td>\n      <td>0</td>\n    </tr>\n    <tr>\n      <th>3</th>\n      <td>550442977802207232</td>\n      <td>ShowDreamCar</td>\n      <td>1420070807</td>\n      <td>$GM $TSLA: Volkswagen Pushes 2014 Record Recal...</td>\n      <td>0</td>\n      <td>0</td>\n      <td>1</td>\n    </tr>\n    <tr>\n      <th>4</th>\n      <td>550443807834402816</td>\n      <td>i_Know_First</td>\n      <td>1420071005</td>\n      <td>Swing Trading: Up To 8.91% Return In 14 Days h...</td>\n      <td>0</td>\n      <td>0</td>\n      <td>1</td>\n    </tr>\n    <tr>\n      <th>...</th>\n      <td>...</td>\n      <td>...</td>\n      <td>...</td>\n      <td>...</td>\n      <td>...</td>\n      <td>...</td>\n      <td>...</td>\n    </tr>\n    <tr>\n      <th>3717959</th>\n      <td>1212159765914079234</td>\n      <td>TEEELAZER</td>\n      <td>1577836383</td>\n      <td>That $SPY $SPX puuump in the last hour was the...</td>\n      <td>1</td>\n      <td>0</td>\n      <td>6</td>\n    </tr>\n    <tr>\n      <th>3717960</th>\n      <td>1212159838882533376</td>\n      <td>ShortingIsFun</td>\n      <td>1577836401</td>\n      <td>In 2020 I may start Tweeting out positive news...</td>\n      <td>0</td>\n      <td>0</td>\n      <td>1</td>\n    </tr>\n    <tr>\n      <th>3717961</th>\n      <td>1212160015332728833</td>\n      <td>Commuternyc</td>\n      <td>1577836443</td>\n      <td>Patiently Waiting for the no twitter sitter tw...</td>\n      <td>0</td>\n      <td>0</td>\n      <td>5</td>\n    </tr>\n    <tr>\n      <th>3717962</th>\n      <td>1212160410692046849</td>\n      <td>MoriaCrypto</td>\n      <td>1577836537</td>\n      <td>I don't discriminate. I own both $aapl and $ms...</td>\n      <td>1</td>\n      <td>0</td>\n      <td>1</td>\n    </tr>\n    <tr>\n      <th>3717963</th>\n      <td>1212160477159206912</td>\n      <td>treabase</td>\n      <td>1577836553</td>\n      <td>$AAPL #patent 10,522,475 Vertical interconnect...</td>\n      <td>0</td>\n      <td>0</td>\n      <td>0</td>\n    </tr>\n  </tbody>\n</table>\n<p>3717964 rows × 7 columns</p>\n</div>"
     },
     "metadata": {},
     "execution_count": 21
    }
   ],
   "source": [
    "tweets_data_frame_mod"
   ]
  },
  {
   "cell_type": "code",
   "execution_count": 22,
   "metadata": {},
   "outputs": [],
   "source": [
    "tweets_for_company = pd.merge(left=company_tweet_id,right=tweets_data_frame_mod,how=\"left\",left_on=\"tweet_id\",right_on=\"tweet_id\")"
   ]
  },
  {
   "cell_type": "code",
   "execution_count": 23,
   "metadata": {},
   "outputs": [
    {
     "output_type": "execute_result",
     "data": {
      "text/plain": [
       "                    tweet_id ticker_symbol company_name          writer  \\\n",
       "0         550803612197457920          AAPL        apple      SentiQuant   \n",
       "1         550803610825928706          AAPL        apple      SentiQuant   \n",
       "2         550803225113157632          AAPL        apple     MacHashNews   \n",
       "3         550802957370159104          AAPL        apple   WaltLightShed   \n",
       "4         550802855129382912          AAPL        apple    2waystrading   \n",
       "...                      ...           ...          ...             ...   \n",
       "4336440  1212158772015034369          TSLA    Tesla Inc       StockJoke   \n",
       "4336441  1212159099632267268          TSLA    Tesla Inc       sweetog76   \n",
       "4336442  1212159184931717120          TSLA    Tesla Inc  MelaynaLokosky   \n",
       "4336443  1212159838882533376          TSLA    Tesla Inc   ShortingIsFun   \n",
       "4336444  1212160015332728833          TSLA    Tesla Inc     Commuternyc   \n",
       "\n",
       "          post_date                                               body  \\\n",
       "0        1420156789  #TOPTICKERTWEETS $AAPL $IMRS $BABA $EBAY $AMZN...   \n",
       "1        1420156788  #SENTISHIFTUP $K $FB $GOOGL $GS $GOLD $T $AAPL...   \n",
       "2        1420156696  Rumor Roundup: What to expect when you're expe...   \n",
       "3        1420156633  An $AAPL store line in Sapporo Japan for the \"...   \n",
       "4        1420156608  $AAPL - Will $AAPL Give Second entry opportuni...   \n",
       "...             ...                                                ...   \n",
       "4336440  1577836146  I'm getting wasted on NYE, and thanks to @NHTS...   \n",
       "4336441  1577836224                       $TSLA Very Interesting dude:   \n",
       "4336442  1577836245  If only 2020 brought more self-awareness to Te...   \n",
       "4336443  1577836401  In 2020 I may start Tweeting out positive news...   \n",
       "4336444  1577836443  Patiently Waiting for the no twitter sitter tw...   \n",
       "\n",
       "         comment_num  retweet_num  like_num  \n",
       "0                  0            0         1  \n",
       "1                  0            0         1  \n",
       "2                  0            0         0  \n",
       "3                  2            4         4  \n",
       "4                  0            0         0  \n",
       "...              ...          ...       ...  \n",
       "4336440            0            0         0  \n",
       "4336441            0            0         0  \n",
       "4336442            0            1         0  \n",
       "4336443            0            0         1  \n",
       "4336444            0            0         5  \n",
       "\n",
       "[4336445 rows x 9 columns]"
      ],
      "text/html": "<div>\n<style scoped>\n    .dataframe tbody tr th:only-of-type {\n        vertical-align: middle;\n    }\n\n    .dataframe tbody tr th {\n        vertical-align: top;\n    }\n\n    .dataframe thead th {\n        text-align: right;\n    }\n</style>\n<table border=\"1\" class=\"dataframe\">\n  <thead>\n    <tr style=\"text-align: right;\">\n      <th></th>\n      <th>tweet_id</th>\n      <th>ticker_symbol</th>\n      <th>company_name</th>\n      <th>writer</th>\n      <th>post_date</th>\n      <th>body</th>\n      <th>comment_num</th>\n      <th>retweet_num</th>\n      <th>like_num</th>\n    </tr>\n  </thead>\n  <tbody>\n    <tr>\n      <th>0</th>\n      <td>550803612197457920</td>\n      <td>AAPL</td>\n      <td>apple</td>\n      <td>SentiQuant</td>\n      <td>1420156789</td>\n      <td>#TOPTICKERTWEETS $AAPL $IMRS $BABA $EBAY $AMZN...</td>\n      <td>0</td>\n      <td>0</td>\n      <td>1</td>\n    </tr>\n    <tr>\n      <th>1</th>\n      <td>550803610825928706</td>\n      <td>AAPL</td>\n      <td>apple</td>\n      <td>SentiQuant</td>\n      <td>1420156788</td>\n      <td>#SENTISHIFTUP $K $FB $GOOGL $GS $GOLD $T $AAPL...</td>\n      <td>0</td>\n      <td>0</td>\n      <td>1</td>\n    </tr>\n    <tr>\n      <th>2</th>\n      <td>550803225113157632</td>\n      <td>AAPL</td>\n      <td>apple</td>\n      <td>MacHashNews</td>\n      <td>1420156696</td>\n      <td>Rumor Roundup: What to expect when you're expe...</td>\n      <td>0</td>\n      <td>0</td>\n      <td>0</td>\n    </tr>\n    <tr>\n      <th>3</th>\n      <td>550802957370159104</td>\n      <td>AAPL</td>\n      <td>apple</td>\n      <td>WaltLightShed</td>\n      <td>1420156633</td>\n      <td>An $AAPL store line in Sapporo Japan for the \"...</td>\n      <td>2</td>\n      <td>4</td>\n      <td>4</td>\n    </tr>\n    <tr>\n      <th>4</th>\n      <td>550802855129382912</td>\n      <td>AAPL</td>\n      <td>apple</td>\n      <td>2waystrading</td>\n      <td>1420156608</td>\n      <td>$AAPL - Will $AAPL Give Second entry opportuni...</td>\n      <td>0</td>\n      <td>0</td>\n      <td>0</td>\n    </tr>\n    <tr>\n      <th>...</th>\n      <td>...</td>\n      <td>...</td>\n      <td>...</td>\n      <td>...</td>\n      <td>...</td>\n      <td>...</td>\n      <td>...</td>\n      <td>...</td>\n      <td>...</td>\n    </tr>\n    <tr>\n      <th>4336440</th>\n      <td>1212158772015034369</td>\n      <td>TSLA</td>\n      <td>Tesla Inc</td>\n      <td>StockJoke</td>\n      <td>1577836146</td>\n      <td>I'm getting wasted on NYE, and thanks to @NHTS...</td>\n      <td>0</td>\n      <td>0</td>\n      <td>0</td>\n    </tr>\n    <tr>\n      <th>4336441</th>\n      <td>1212159099632267268</td>\n      <td>TSLA</td>\n      <td>Tesla Inc</td>\n      <td>sweetog76</td>\n      <td>1577836224</td>\n      <td>$TSLA Very Interesting dude:</td>\n      <td>0</td>\n      <td>0</td>\n      <td>0</td>\n    </tr>\n    <tr>\n      <th>4336442</th>\n      <td>1212159184931717120</td>\n      <td>TSLA</td>\n      <td>Tesla Inc</td>\n      <td>MelaynaLokosky</td>\n      <td>1577836245</td>\n      <td>If only 2020 brought more self-awareness to Te...</td>\n      <td>0</td>\n      <td>1</td>\n      <td>0</td>\n    </tr>\n    <tr>\n      <th>4336443</th>\n      <td>1212159838882533376</td>\n      <td>TSLA</td>\n      <td>Tesla Inc</td>\n      <td>ShortingIsFun</td>\n      <td>1577836401</td>\n      <td>In 2020 I may start Tweeting out positive news...</td>\n      <td>0</td>\n      <td>0</td>\n      <td>1</td>\n    </tr>\n    <tr>\n      <th>4336444</th>\n      <td>1212160015332728833</td>\n      <td>TSLA</td>\n      <td>Tesla Inc</td>\n      <td>Commuternyc</td>\n      <td>1577836443</td>\n      <td>Patiently Waiting for the no twitter sitter tw...</td>\n      <td>0</td>\n      <td>0</td>\n      <td>5</td>\n    </tr>\n  </tbody>\n</table>\n<p>4336445 rows × 9 columns</p>\n</div>"
     },
     "metadata": {},
     "execution_count": 23
    }
   ],
   "source": [
    "tweets_for_company"
   ]
  },
  {
   "cell_type": "code",
   "execution_count": 26,
   "metadata": {},
   "outputs": [],
   "source": [
    "tweets_for_company.to_csv(pwd+\"/Final.csv\",index=False)"
   ]
  },
  {
   "cell_type": "code",
   "execution_count": null,
   "metadata": {},
   "outputs": [],
   "source": []
  }
 ]
}